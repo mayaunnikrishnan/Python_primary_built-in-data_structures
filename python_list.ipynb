{
  "nbformat": 4,
  "nbformat_minor": 0,
  "metadata": {
    "colab": {
      "provenance": []
    },
    "kernelspec": {
      "name": "python3",
      "display_name": "Python 3"
    },
    "language_info": {
      "name": "python"
    }
  },
  "cells": [
    {
      "cell_type": "markdown",
      "source": [
        "#List in python"
      ],
      "metadata": {
        "id": "sMSStjNjtrB0"
      }
    },
    {
      "cell_type": "markdown",
      "source": [
        "lists:\n",
        "\n",
        "in Python, a list is a collection of ordered items, which can be of any data type such as integers, strings, floats, or even other lists. Lists are one of the most versatile and commonly used data structures in Python"
      ],
      "metadata": {
        "id": "TCLamaTLfReT"
      }
    },
    {
      "cell_type": "code",
      "source": [
        "#append(): Adds an item to the end of the list.\n",
        "fruits = [\"apple\", \"banana\"]\n",
        "fruits.append(\"orange\")\n",
        "fruits"
      ],
      "metadata": {
        "colab": {
          "base_uri": "https://localhost:8080/"
        },
        "id": "jLKNNM70cfLK",
        "outputId": "cb126b6f-34d7-4a3f-b970-685d51c9eb82"
      },
      "execution_count": null,
      "outputs": [
        {
          "output_type": "execute_result",
          "data": {
            "text/plain": [
              "['apple', 'banana', 'orange']"
            ]
          },
          "metadata": {},
          "execution_count": 45
        }
      ]
    },
    {
      "cell_type": "code",
      "source": [
        "#insert(): Inserts an item at a specific index in the list.\n",
        "numbers = [1, 2, 3]\n",
        "numbers.insert(1, 5)\n",
        "numbers"
      ],
      "metadata": {
        "colab": {
          "base_uri": "https://localhost:8080/"
        },
        "id": "ReRzAQQMffUb",
        "outputId": "3755f125-1c86-48dd-dcba-3c7d17ba08bf"
      },
      "execution_count": null,
      "outputs": [
        {
          "output_type": "execute_result",
          "data": {
            "text/plain": [
              "[1, 5, 2, 3]"
            ]
          },
          "metadata": {},
          "execution_count": 46
        }
      ]
    },
    {
      "cell_type": "code",
      "source": [
        "#remove(): Removes the first occurrence of a specified item from the list.\n",
        "animals = [\"dog\", \"cat\", \"dog\", \"elephant\"]\n",
        "animals.remove(\"dog\")\n",
        "animals"
      ],
      "metadata": {
        "colab": {
          "base_uri": "https://localhost:8080/"
        },
        "id": "7BySk8vFffbz",
        "outputId": "7bc85cd1-6531-4c0f-9f42-8a5e6146e21f"
      },
      "execution_count": null,
      "outputs": [
        {
          "output_type": "execute_result",
          "data": {
            "text/plain": [
              "['cat', 'dog', 'elephant']"
            ]
          },
          "metadata": {},
          "execution_count": 47
        }
      ]
    },
    {
      "cell_type": "code",
      "source": [
        "#pop(): Removes and returns the item at a specified index. If no index is provided, it removes the last item.\n",
        "colors = [\"red\", \"green\", \"blue\"]\n",
        "removed_color = colors.pop(1)\n",
        "removed_color"
      ],
      "metadata": {
        "colab": {
          "base_uri": "https://localhost:8080/",
          "height": 35
        },
        "id": "k8V6EgOdffeL",
        "outputId": "fd9902f5-d902-4517-db95-1507601f5d44"
      },
      "execution_count": null,
      "outputs": [
        {
          "output_type": "execute_result",
          "data": {
            "text/plain": [
              "'green'"
            ],
            "application/vnd.google.colaboratory.intrinsic+json": {
              "type": "string"
            }
          },
          "metadata": {},
          "execution_count": 48
        }
      ]
    },
    {
      "cell_type": "code",
      "source": [
        "colors"
      ],
      "metadata": {
        "colab": {
          "base_uri": "https://localhost:8080/"
        },
        "id": "vbpWBYzsggM7",
        "outputId": "48e820e4-ee1b-4f12-eef2-63f51f5312a8"
      },
      "execution_count": null,
      "outputs": [
        {
          "output_type": "execute_result",
          "data": {
            "text/plain": [
              "['red', 'blue']"
            ]
          },
          "metadata": {},
          "execution_count": 49
        }
      ]
    },
    {
      "cell_type": "code",
      "source": [
        "#index(): Returns the index of the first occurrence of a specified item.\n",
        "fruits = [\"apple\", \"banana\", \"orange\"]\n",
        "index = fruits.index(\"banana\")\n",
        "index"
      ],
      "metadata": {
        "colab": {
          "base_uri": "https://localhost:8080/"
        },
        "id": "VhSQ4ym-ffgU",
        "outputId": "7f4da91d-8854-4e82-bc34-cb717bb9f5e2"
      },
      "execution_count": null,
      "outputs": [
        {
          "output_type": "execute_result",
          "data": {
            "text/plain": [
              "1"
            ]
          },
          "metadata": {},
          "execution_count": 50
        }
      ]
    },
    {
      "cell_type": "code",
      "source": [
        "#count(): Returns the number of occurrences of a specified item in the list.\n",
        "numbers = [1, 2, 2, 3, 2]\n",
        "count = numbers.count(2)\n",
        "count"
      ],
      "metadata": {
        "colab": {
          "base_uri": "https://localhost:8080/"
        },
        "id": "SwG8xQpiffic",
        "outputId": "f224f086-108a-4645-c232-a7b72925d17e"
      },
      "execution_count": null,
      "outputs": [
        {
          "output_type": "execute_result",
          "data": {
            "text/plain": [
              "3"
            ]
          },
          "metadata": {},
          "execution_count": 51
        }
      ]
    },
    {
      "cell_type": "code",
      "source": [
        "#sort(): Sorts the list in ascending order. You can provide optional arguments for custom sorting.\n",
        "numbers = [5, 2, 8, 1]\n",
        "numbers.sort()\n",
        "numbers"
      ],
      "metadata": {
        "colab": {
          "base_uri": "https://localhost:8080/"
        },
        "id": "G0BWq0jwffkh",
        "outputId": "ed8863c8-88b5-47c2-d86a-2efc2011eb95"
      },
      "execution_count": null,
      "outputs": [
        {
          "output_type": "execute_result",
          "data": {
            "text/plain": [
              "[1, 2, 5, 8]"
            ]
          },
          "metadata": {},
          "execution_count": 52
        }
      ]
    },
    {
      "cell_type": "code",
      "source": [
        "#reverse(): Reverses the order of items in the list.\n",
        "letters = ['a', 'b', 'c']\n",
        "letters.reverse()\n",
        "letters"
      ],
      "metadata": {
        "colab": {
          "base_uri": "https://localhost:8080/"
        },
        "id": "f4fwvZSbffml",
        "outputId": "bead879e-cf6c-45a2-f537-9ee31a44e45c"
      },
      "execution_count": null,
      "outputs": [
        {
          "output_type": "execute_result",
          "data": {
            "text/plain": [
              "['c', 'b', 'a']"
            ]
          },
          "metadata": {},
          "execution_count": 53
        }
      ]
    },
    {
      "cell_type": "code",
      "source": [
        "#extend(): Adds all items of another iterable (e.g., another list) to the end of the list.\n",
        "list1 = [1, 2, 3]\n",
        "list2 = [4, 5, 6]\n",
        "list1.extend(list2)\n",
        "list1"
      ],
      "metadata": {
        "colab": {
          "base_uri": "https://localhost:8080/"
        },
        "id": "iwrmQBsLffoj",
        "outputId": "1da8b74e-1dd5-4317-876c-adaf84a9f740"
      },
      "execution_count": null,
      "outputs": [
        {
          "output_type": "execute_result",
          "data": {
            "text/plain": [
              "[1, 2, 3, 4, 5, 6]"
            ]
          },
          "metadata": {},
          "execution_count": 54
        }
      ]
    },
    {
      "cell_type": "code",
      "source": [
        "#copy(): Creates a shallow copy of the list.\n",
        "original = [1, 2, 3]\n",
        "new_copy = original.copy()"
      ],
      "metadata": {
        "id": "OnbYq_gpffqr"
      },
      "execution_count": null,
      "outputs": []
    },
    {
      "cell_type": "code",
      "source": [
        "#clear(): Removes all items from the list, making it empty.\n",
        "items = [1, 2, 3]\n",
        "items.clear()\n",
        "items"
      ],
      "metadata": {
        "colab": {
          "base_uri": "https://localhost:8080/"
        },
        "id": "Q9-3gXidffsz",
        "outputId": "40c61db8-7dd2-4d36-9ca5-97cbfeca6ac1"
      },
      "execution_count": null,
      "outputs": [
        {
          "output_type": "execute_result",
          "data": {
            "text/plain": [
              "[]"
            ]
          },
          "metadata": {},
          "execution_count": 55
        }
      ]
    },
    {
      "cell_type": "code",
      "source": [
        "#len(): Returns the number of items in the list (length).\n",
        "colors = [\"red\", \"green\", \"blue\"]\n",
        "length = len(colors)\n",
        "length"
      ],
      "metadata": {
        "colab": {
          "base_uri": "https://localhost:8080/"
        },
        "id": "PRozZIltffvN",
        "outputId": "49110c50-fc32-4551-da68-8bbd3423406c"
      },
      "execution_count": null,
      "outputs": [
        {
          "output_type": "execute_result",
          "data": {
            "text/plain": [
              "3"
            ]
          },
          "metadata": {},
          "execution_count": 56
        }
      ]
    },
    {
      "cell_type": "markdown",
      "source": [
        "List slicing is a technique in Python that allows you to extract a portion (sublist) of a list. It's done by specifying a range of indices using the colon (:) operator.\n",
        "The syntax for list slicing is :\n",
        "\n",
        "list[start:stop:step]\n",
        "\n",
        " where:\n",
        "\n",
        "start: The index where the slicing starts (inclusive).\n",
        "\n",
        "stop: The index where the slicing stops (exclusive).\n",
        "\n",
        "step: The step size between elements (optional)."
      ],
      "metadata": {
        "id": "S8YK-l9vhPEB"
      }
    },
    {
      "cell_type": "code",
      "source": [
        "numbers = [0, 1, 2, 3, 4, 5, 6, 7, 8, 9]"
      ],
      "metadata": {
        "id": "U-JxqHiVffxb"
      },
      "execution_count": null,
      "outputs": []
    },
    {
      "cell_type": "code",
      "source": [
        "# Extract a sublist from index 2 to index 5 (5 is excluded)\n",
        "sublist1 = numbers[2:5]\n",
        "sublist1"
      ],
      "metadata": {
        "colab": {
          "base_uri": "https://localhost:8080/"
        },
        "id": "jrMpaU_Uho3q",
        "outputId": "b4429fb4-4ed5-483a-bb9e-bae1da44f28f"
      },
      "execution_count": null,
      "outputs": [
        {
          "output_type": "execute_result",
          "data": {
            "text/plain": [
              "[2, 3, 4]"
            ]
          },
          "metadata": {},
          "execution_count": 2
        }
      ]
    },
    {
      "cell_type": "code",
      "source": [
        "# Extract elements from index 1 to the end of the list\n",
        "sublist2 = numbers[1:]\n",
        "sublist2"
      ],
      "metadata": {
        "colab": {
          "base_uri": "https://localhost:8080/"
        },
        "id": "ys7Lu4FwhpC5",
        "outputId": "c026cb6e-f918-49e0-d511-0436f462301a"
      },
      "execution_count": null,
      "outputs": [
        {
          "output_type": "execute_result",
          "data": {
            "text/plain": [
              "[1, 2, 3, 4, 5, 6, 7, 8, 9]"
            ]
          },
          "metadata": {},
          "execution_count": 3
        }
      ]
    },
    {
      "cell_type": "code",
      "source": [
        "# Extract elements from the beginning to index 6 (6 is excluded)\n",
        "sublist3 = numbers[:6]\n",
        "sublist3"
      ],
      "metadata": {
        "colab": {
          "base_uri": "https://localhost:8080/"
        },
        "id": "5CDqoxE0hpFb",
        "outputId": "22211048-96d6-48f1-e409-eaf8a5a81792"
      },
      "execution_count": null,
      "outputs": [
        {
          "output_type": "execute_result",
          "data": {
            "text/plain": [
              "[0, 1, 2, 3, 4, 5]"
            ]
          },
          "metadata": {},
          "execution_count": 4
        }
      ]
    },
    {
      "cell_type": "code",
      "source": [
        "# Extract every second element from index 1 to index 8\n",
        "sublist4 = numbers[1:8:2]\n",
        "sublist4"
      ],
      "metadata": {
        "colab": {
          "base_uri": "https://localhost:8080/"
        },
        "id": "ElJrs_muhpHX",
        "outputId": "dfe21465-ab49-49c1-d317-ad2464e2066a"
      },
      "execution_count": null,
      "outputs": [
        {
          "output_type": "execute_result",
          "data": {
            "text/plain": [
              "[1, 3, 5, 7]"
            ]
          },
          "metadata": {},
          "execution_count": 5
        }
      ]
    },
    {
      "cell_type": "code",
      "source": [
        "# Extract elements in reverse order\n",
        "reversed_list = numbers[::-1]\n",
        "reversed_list"
      ],
      "metadata": {
        "colab": {
          "base_uri": "https://localhost:8080/"
        },
        "id": "MGFm2FwlhpMJ",
        "outputId": "172219cc-90bf-4644-9582-dcfe513b9b81"
      },
      "execution_count": null,
      "outputs": [
        {
          "output_type": "execute_result",
          "data": {
            "text/plain": [
              "[9, 8, 7, 6, 5, 4, 3, 2, 1, 0]"
            ]
          },
          "metadata": {},
          "execution_count": 6
        }
      ]
    },
    {
      "cell_type": "markdown",
      "source": [
        "For Practice :\n",
        "\n",
        "1.\tCreate a list named fruits containing three fruit names: \"apple\", \"banana\", and \"orange\".\n",
        "2.\tAccess and print the second element of the fruits list.\n",
        "3.\tAdd the fruit \"grape\" to the end of the fruits list.\n",
        "4.\tReplace the second element of the fruits list with \"kiwi\".\n",
        "5.\tRemove the last element from the fruits list.\n",
        "6.\tCreate a new list named numbers with integers from 1 to 5.\n",
        "7.\tUse list slicing to extract the second and third elements from the numbers list.\n",
        "8.\tAdd the elements [6, 7] to the numbers list.\n",
        "9.\tCheck if the value 3 is present in the numbers list.\n",
        "10.\tCreate a new list doubled_numbers that contains each number from the numbers list multiplied by 2.\n",
        "11.\tSort the numbers list in ascending order.\n",
        "12.\tReverse the order of elements in the fruits list.\n"
      ],
      "metadata": {
        "id": "EP1WZKrFiE3a"
      }
    },
    {
      "cell_type": "markdown",
      "source": [
        "1.\tHow do you add an element to the end of a list using the built-in method?\n",
        "2.\tGiven a list [1, 2, 3], how can you add the element 4 to the end of it?\n",
        "3.\tWrite a program to insert the value 10 at the second position in a list.\n",
        "4.\tHow can you remove the first occurrence of the value 5 from a list?\n",
        "5.\tWrite a program to remove the last element from a list.\n",
        "6.\tGiven a list [10, 20, 30, 20, 40], how can you count the occurrences of the value 20?\n",
        "7.\tHow do you find the index of the first occurrence of the value 15 in a list?\n",
        "8.\tWrite a program to sort a list of numbers in ascending order.\n",
        "9.\tHow can you reverse the elements of a list using the built-in method?\n",
        "10.\tGiven two lists [1, 2] and [3, 4], how can you concatenate them?\n",
        "11.\tWrite a program to remove all occurrences of the value 7 from a list.\n",
        "12.\tHow do you find the maximum value in a list of numbers?\n",
        "13.\tGiven a list [5, 8, 12, 20], how can you determine the minimum value?\n",
        "14.\tWrite a program to create a shallow copy of a given list.\n",
        "15.\tHow can you find the index of the last occurrence of the value 25 in a list?\n",
        "16.\tGiven a list [1, 2, 3, 4, 5], how can you extract a sublist [2, 3, 4] using slicing?\n",
        "17.\tWrite a program to count the number of elements in a list.\n",
        "18.\tHow do you check if a value exists in a list?\n",
        "19.\tGiven a list [4, 3, 6, 2, 1], how can you sort it in descending order?\n",
        "20.\tWrite a program to remove all elements from a list.\n",
        "\n"
      ],
      "metadata": {
        "id": "Oy54z87jEZQN"
      }
    },
    {
      "cell_type": "markdown",
      "source": [
        "## **For More Practice:**"
      ],
      "metadata": {
        "id": "46-Ui2w10O3f"
      }
    },
    {
      "cell_type": "markdown",
      "source": [
        "\n",
        "\n",
        "Lists:\n",
        "11.\tFind the length of a list.\n",
        "12.\tAppend an element to a list.\n",
        "13.\tRemove the last element from a list.\n",
        "14.\tCount the occurrences of a specific element in a list.\n",
        "15.\tSort a list in ascending order.\n",
        "16.\tReverse the elements of a list.\n",
        "17.\tExtract a sublist from a list using slicing.\n",
        "18.\tFind the index of the first occurrence of an element in a list.\n",
        "19.\tExtend one list with the elements of another list.\n",
        "20.\tRemove all occurrences of a specific element from a list.\n",
        "\n",
        "\n",
        "\n"
      ],
      "metadata": {
        "id": "DV-e9VAFOuLU"
      }
    },
    {
      "cell_type": "code",
      "source": [],
      "metadata": {
        "id": "tk0dKJ-RbYlS"
      },
      "execution_count": null,
      "outputs": []
    }
  ]
}