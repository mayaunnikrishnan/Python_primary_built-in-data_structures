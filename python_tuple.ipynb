{
  "nbformat": 4,
  "nbformat_minor": 0,
  "metadata": {
    "colab": {
      "provenance": []
    },
    "kernelspec": {
      "name": "python3",
      "display_name": "Python 3"
    },
    "language_info": {
      "name": "python"
    }
  },
  "cells": [
    {
      "cell_type": "markdown",
      "source": [
        "#Tuples in python"
      ],
      "metadata": {
        "id": "52lNUDHvuKc8"
      }
    },
    {
      "cell_type": "markdown",
      "source": [
        " tuples:\n",
        "\n",
        " A tuple in Python is an ordered, immutable collection of elements. Like lists, tuples can hold different types of data, such as integers, strings, and even other tuples. However, unlike lists, once a tuple is created, its elements cannot be changed, added, or removed. Tuples are often used to represent related pieces of information that should remain constant throughout the program's execution"
      ],
      "metadata": {
        "id": "x_5SwI38i1DZ"
      }
    },
    {
      "cell_type": "code",
      "source": [
        "#len(): Returns the number of elements in the tuple.\n",
        "my_tuple = (1, 2, 3, 4, 5)\n",
        "length = len(my_tuple)\n",
        "length"
      ],
      "metadata": {
        "colab": {
          "base_uri": "https://localhost:8080/"
        },
        "id": "fD--XfmDhpQh",
        "outputId": "6e5fb1a2-49b3-4da3-89dd-4cccd83a44b6"
      },
      "execution_count": null,
      "outputs": [
        {
          "output_type": "execute_result",
          "data": {
            "text/plain": [
              "5"
            ]
          },
          "metadata": {},
          "execution_count": 7
        }
      ]
    },
    {
      "cell_type": "code",
      "source": [
        "#count(): Returns the number of occurrences of a specified element in the tuple.\n",
        "my_tuple = (1, 2, 2, 3, 2)\n",
        "count = my_tuple.count(2)\n",
        "count"
      ],
      "metadata": {
        "colab": {
          "base_uri": "https://localhost:8080/"
        },
        "id": "CMaTgijShpTZ",
        "outputId": "7a2aecd8-0a79-4b31-aff8-2d928bb9d808"
      },
      "execution_count": null,
      "outputs": [
        {
          "output_type": "execute_result",
          "data": {
            "text/plain": [
              "3"
            ]
          },
          "metadata": {},
          "execution_count": 8
        }
      ]
    },
    {
      "cell_type": "code",
      "source": [
        "#index(): Returns the index of the first occurrence of a specified element in the tuple.\n",
        "my_tuple = (\"apple\", \"banana\", \"orange\")\n",
        "index = my_tuple.index(\"banana\")\n",
        "index"
      ],
      "metadata": {
        "colab": {
          "base_uri": "https://localhost:8080/"
        },
        "id": "QzVHtWhPhpVe",
        "outputId": "e67dcb59-d147-48a1-bd3e-5023af5accf4"
      },
      "execution_count": null,
      "outputs": [
        {
          "output_type": "execute_result",
          "data": {
            "text/plain": [
              "1"
            ]
          },
          "metadata": {},
          "execution_count": 9
        }
      ]
    },
    {
      "cell_type": "code",
      "source": [
        "#+ operator: Concatenates two tuples to create a new tuple.\n",
        "tuple1 = (1, 2, 3)\n",
        "tuple2 = (4, 5, 6)\n",
        "new_tuple = tuple1 + tuple2\n",
        "new_tuple"
      ],
      "metadata": {
        "colab": {
          "base_uri": "https://localhost:8080/"
        },
        "id": "97afHEq2hpYE",
        "outputId": "59210073-d41e-4d4e-c7ae-d702a96bf253"
      },
      "execution_count": null,
      "outputs": [
        {
          "output_type": "execute_result",
          "data": {
            "text/plain": [
              "(1, 2, 3, 4, 5, 6)"
            ]
          },
          "metadata": {},
          "execution_count": 10
        }
      ]
    },
    {
      "cell_type": "code",
      "source": [
        "#* operator: Creates a new tuple by repeating the elements of the original tuple.\n",
        "original_tuple = (1, 2)\n",
        "repeated_tuple = original_tuple * 3\n",
        "repeated_tuple"
      ],
      "metadata": {
        "colab": {
          "base_uri": "https://localhost:8080/"
        },
        "id": "cuZ-3MMCjEk_",
        "outputId": "bb3d66d9-a123-4532-8e96-3d84d3231e28"
      },
      "execution_count": null,
      "outputs": [
        {
          "output_type": "execute_result",
          "data": {
            "text/plain": [
              "(1, 2, 1, 2, 1, 2)"
            ]
          },
          "metadata": {},
          "execution_count": 11
        }
      ]
    },
    {
      "cell_type": "code",
      "source": [
        "#sorted(): Returns a new sorted list containing elements of the tuple in ascending order.\n",
        "my_tuple = (5, 2, 8, 1)\n",
        "sorted_list = sorted(my_tuple)\n",
        "sorted_list"
      ],
      "metadata": {
        "colab": {
          "base_uri": "https://localhost:8080/"
        },
        "id": "DSPbhwqMjEn0",
        "outputId": "4fae5979-52ce-4ddc-acdc-988d7e6226d5"
      },
      "execution_count": null,
      "outputs": [
        {
          "output_type": "execute_result",
          "data": {
            "text/plain": [
              "[1, 2, 5, 8]"
            ]
          },
          "metadata": {},
          "execution_count": 12
        }
      ]
    },
    {
      "cell_type": "code",
      "source": [
        "#max() and min(): Returns the maximum and minimum values in the tuple.\n",
        "numbers = (5, 2, 8, 1)\n",
        "max_value = max(numbers)  # Output: 8\n",
        "min_value = min(numbers)\n",
        "print(\"Max_value:\",max_value)\n",
        "print(\"Min_value:\",min_value)"
      ],
      "metadata": {
        "colab": {
          "base_uri": "https://localhost:8080/"
        },
        "id": "Qp2SC2ndjEsJ",
        "outputId": "851ebd42-2da6-4a76-a438-50dffff0b1f6"
      },
      "execution_count": null,
      "outputs": [
        {
          "output_type": "stream",
          "name": "stdout",
          "text": [
            "Max_value: 8\n",
            "Min_value: 1\n"
          ]
        }
      ]
    },
    {
      "cell_type": "code",
      "source": [
        "#reversed(): Returns an iterator that produces elements of the tuple in reversed order.\n",
        "original_tuple = (3, 2, 1)\n",
        "reversed_iterator = reversed(original_tuple)\n",
        "reversed_tuple = tuple(reversed_iterator)"
      ],
      "metadata": {
        "id": "wlrg1dpljEw2"
      },
      "execution_count": null,
      "outputs": []
    },
    {
      "cell_type": "code",
      "source": [
        "reversed_iterator"
      ],
      "metadata": {
        "colab": {
          "base_uri": "https://localhost:8080/"
        },
        "id": "sTmjuQzwkVN4",
        "outputId": "9728e4af-4031-47b6-d387-6bd62818c2db"
      },
      "execution_count": null,
      "outputs": [
        {
          "output_type": "execute_result",
          "data": {
            "text/plain": [
              "<reversed at 0x7a3ee825fe20>"
            ]
          },
          "metadata": {},
          "execution_count": 16
        }
      ]
    },
    {
      "cell_type": "code",
      "source": [
        "reversed_tuple"
      ],
      "metadata": {
        "colab": {
          "base_uri": "https://localhost:8080/"
        },
        "id": "-of3iGMakVT3",
        "outputId": "23f459db-8c26-406d-ea74-7a1a943a9e1f"
      },
      "execution_count": null,
      "outputs": [
        {
          "output_type": "execute_result",
          "data": {
            "text/plain": [
              "(1, 2, 3)"
            ]
          },
          "metadata": {},
          "execution_count": 17
        }
      ]
    },
    {
      "cell_type": "code",
      "source": [
        "#in keyword: Checks if an element is present in the tuple.\n",
        "my_tuple = (\"apple\", \"banana\", \"orange\")\n",
        "is_banana_present = \"banana\" in my_tuple"
      ],
      "metadata": {
        "id": "r2vC1GPmjEz4"
      },
      "execution_count": null,
      "outputs": []
    },
    {
      "cell_type": "code",
      "source": [
        "is_banana_present"
      ],
      "metadata": {
        "colab": {
          "base_uri": "https://localhost:8080/"
        },
        "id": "Eerrms5dkfo5",
        "outputId": "0392330d-6a36-4059-a3c9-0437bdbf96a6"
      },
      "execution_count": null,
      "outputs": [
        {
          "output_type": "execute_result",
          "data": {
            "text/plain": [
              "True"
            ]
          },
          "metadata": {},
          "execution_count": 20
        }
      ]
    },
    {
      "cell_type": "code",
      "source": [
        "#not in keyword: Checks if an element is not present in the tuple.\n",
        "numbers = (1, 2, 3, 4, 5)\n",
        "is_6_absent = 6 not in numbers\n",
        "is_6_absent"
      ],
      "metadata": {
        "colab": {
          "base_uri": "https://localhost:8080/"
        },
        "id": "tQ8MctO2jE2g",
        "outputId": "11ede917-c284-4f6d-d8d8-8c217add9f22"
      },
      "execution_count": null,
      "outputs": [
        {
          "output_type": "execute_result",
          "data": {
            "text/plain": [
              "True"
            ]
          },
          "metadata": {},
          "execution_count": 21
        }
      ]
    },
    {
      "cell_type": "code",
      "source": [
        "#tuple() constructor: Converts an iterable (like a list or string) into a tuple.\n",
        "my_list = [1, 2, 3]\n",
        "my_tuple = tuple(my_list)\n",
        "my_tuple"
      ],
      "metadata": {
        "colab": {
          "base_uri": "https://localhost:8080/"
        },
        "id": "BL4hggP3jE5F",
        "outputId": "93010acd-07ba-402d-9efa-a37d3a340f68"
      },
      "execution_count": null,
      "outputs": [
        {
          "output_type": "execute_result",
          "data": {
            "text/plain": [
              "(1, 2, 3)"
            ]
          },
          "metadata": {},
          "execution_count": 22
        }
      ]
    },
    {
      "cell_type": "code",
      "source": [
        "#slice: Works similarly to list slicing, allowing you to extract a portion of a tuple.\n",
        "my_tuple = (0, 1, 2, 3, 4, 5)\n",
        "subset = my_tuple[2:5]\n",
        "subset"
      ],
      "metadata": {
        "colab": {
          "base_uri": "https://localhost:8080/"
        },
        "id": "LMwoGTYIjX8P",
        "outputId": "487a1073-f734-42c7-8335-0e5dab90799d"
      },
      "execution_count": null,
      "outputs": [
        {
          "output_type": "execute_result",
          "data": {
            "text/plain": [
              "(2, 3, 4)"
            ]
          },
          "metadata": {},
          "execution_count": 23
        }
      ]
    },
    {
      "cell_type": "code",
      "source": [
        "#Python Tuple\n",
        "# method of unpacking\n",
        "t2=(23,22,25)\n",
        "a,b,c=t2\n",
        "print(a)\n",
        "print(b)\n",
        "print(c)"
      ],
      "metadata": {
        "id": "9koNEVmsD2Gc"
      },
      "execution_count": null,
      "outputs": []
    },
    {
      "cell_type": "code",
      "source": [
        "# enumerate(iterable,start index(optional))\n",
        "l1=[\"a\",\"b\",\"c\"]\n",
        "\n",
        "l2=enumerate(l1,1)\n",
        "print(tuple(l2))"
      ],
      "metadata": {
        "id": "q8pn_qJ4D5JT",
        "colab": {
          "base_uri": "https://localhost:8080/"
        },
        "outputId": "fa307a08-3638-417e-afd0-4325343bdbe3"
      },
      "execution_count": null,
      "outputs": [
        {
          "output_type": "stream",
          "name": "stdout",
          "text": [
            "((1, 'a'), (2, 'b'), (3, 'c'))\n"
          ]
        }
      ]
    },
    {
      "cell_type": "markdown",
      "source": [
        "For Practice:\n",
        "1.\tCreate a tuple named colors containing three color names: \"red\", \"green\", and \"blue\".\n",
        "2.\tAccess and print the second element of the colors tuple.\n",
        "3.\tCombine two tuples, tuple1 and tuple2, to create a new tuple.\n",
        "4.\tCheck if the value 5 is present in the tuple (1, 3, 5, 7, 9).\n",
        "5.\tCreate a tuple named coordinates containing the latitude and longitude of a location.\n",
        "6.\tUse tuple unpacking to assign the elements of the coordinates tuple to separate variables.\n",
        "7.\tWrite a program that swaps the values of two variables using tuples.\n",
        "8.\tConvert a list my_list into a tuple.\n",
        "9.\tFind the index of the element \"apple\" in the tuple fruits = (\"banana\", \"apple\", \"orange\").\n",
        "10.\tCreate a tuple of integers from 1 to 5 and multiply each element by 2 to create a new tuple\n"
      ],
      "metadata": {
        "id": "4909VUpJktt9"
      }
    },
    {
      "cell_type": "markdown",
      "source": [
        "Tuple Length, Count, Index:\n",
        "1.\tGiven a tuple (5, 3, 7, 5, 8, 5), how can you find its length?\n",
        "2.\tWrite a program to count the number of occurrences of the element 5 in a tuple.\n",
        "3.\tHow can you find the index of the first occurrence of the element 7 in a tuple?\n",
        "\n",
        "Tuple Concatenation:\n",
        "1.\tHow would you concatenate two tuples (1, 2, 3) and (4, 5, 6)?\n",
        "2.\tGiven two tuples (10, 20) and (30, 40), how can you create a new tuple (10, 20, 30, 40)?\n",
        "\n",
        "Tuple Sorting, Maximum, Minimum:\n",
        "1.\tWrite a program to sort a tuple of integers in ascending order.\n",
        "2.\tHow do you find the maximum value in a tuple of numbers?\n",
        "3.\tGiven a tuple (4, 2, 7, 1, 9), how can you determine the minimum value?\n",
        "\n",
        "Tuple Reversing, Membership:\n",
        "1.\tHow can you reverse the elements of a tuple (10, 20, 30)?\n",
        "2.\tWrite a program to check if an element exists in a given tuple.\n",
        "3.\tGiven a tuple (5, 8, 12, 20), how can you check if the element 12 is present?\n",
        "\n",
        "Tuple Slicing, Built-in Methods:\n",
        "1.\tGiven a tuple (1, 2, 3, 4, 5), how can you extract a subtuple (2, 3, 4) using slicing?\n",
        "2.\tHow would you convert a list [1, 2, 3] into a tuple?\n",
        "3.\tWrite a program to find the index of the last occurrence of the element 6 in a tuple.\n",
        "\n",
        "Tuple Unpacking, Enumerate:\n",
        "1.\tHow can you unpack the elements of a tuple (5, 10, 15) into separate variables?\n",
        "2.\tWrite a loop using enumerate to print the index and value of each element in a tuple.\n"
      ],
      "metadata": {
        "id": "Ww5Y4gRtEBML"
      }
    },
    {
      "cell_type": "markdown",
      "source": [
        "## **For More Practice:**"
      ],
      "metadata": {
        "id": "46-Ui2w10O3f"
      }
    },
    {
      "cell_type": "markdown",
      "source": [
        "\n",
        "\n",
        "Tuples:\n",
        "21.\tAccess an element at a specific index in a tuple.\n",
        "22.\tConcatenate two tuples.\n",
        "23.\tCount the occurrences of a specific element in a tuple.\n",
        "24.\tFind the index of an element in a tuple.\n",
        "25.\tConvert a tuple to a list.\n",
        "26.\tCheck if an element exists in a tuple.\n",
        "27.\tGet the maximum and minimum elements in a tuple.\n",
        "28.\tCreate a new tuple by repeating the elements of an existing tuple.\n",
        "29.\tFind the length of a tuple.\n",
        "30.\tConvert a tuple to a string.\n",
        "\n",
        "\n"
      ],
      "metadata": {
        "id": "DV-e9VAFOuLU"
      }
    },
    {
      "cell_type": "code",
      "source": [],
      "metadata": {
        "id": "tk0dKJ-RbYlS"
      },
      "execution_count": null,
      "outputs": []
    }
  ]
}