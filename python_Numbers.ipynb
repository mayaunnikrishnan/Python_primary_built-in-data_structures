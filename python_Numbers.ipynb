{
  "nbformat": 4,
  "nbformat_minor": 0,
  "metadata": {
    "colab": {
      "provenance": []
    },
    "kernelspec": {
      "name": "python3",
      "display_name": "Python 3"
    },
    "language_info": {
      "name": "python"
    }
  },
  "cells": [
    {
      "cell_type": "markdown",
      "source": [
        "#Numbers in python"
      ],
      "metadata": {
        "id": "WJuhSmixtluU"
      }
    },
    {
      "cell_type": "markdown",
      "source": [
        "Integers (int):\n",
        "\n",
        "Integers are whole numbers without decimal points. They can be positive, negative, or zero. In Python, integers have unlimited precision."
      ],
      "metadata": {
        "id": "LUksbAlsXeAZ"
      }
    },
    {
      "cell_type": "code",
      "execution_count": null,
      "metadata": {
        "id": "PX40fj59Wn0f"
      },
      "outputs": [],
      "source": [
        "x = 5\n",
        "y = -10\n",
        "z = 0"
      ]
    },
    {
      "cell_type": "markdown",
      "source": [
        "Floating-Point Numbers (float):\n",
        "\n",
        "Floating-point numbers, or floats, are numbers with decimal points. They can represent real numbers and have limited precision due to the way they are stored in the computer's memory."
      ],
      "metadata": {
        "id": "LXDAkff2Xkto"
      }
    },
    {
      "cell_type": "code",
      "source": [
        "a = 3.14\n",
        "b = -0.5\n",
        "c = 2.0e-3  # Scientific notation (2.0 * 10^-3)"
      ],
      "metadata": {
        "id": "WPo2b2UJXqsg"
      },
      "execution_count": null,
      "outputs": []
    },
    {
      "cell_type": "markdown",
      "source": [
        "Complex Numbers (complex):\n",
        "\n",
        "Complex numbers consist of a real part and an imaginary part. They are represented using the complex data type and the j or J suffix for the imaginary unit."
      ],
      "metadata": {
        "id": "q-tSxspWXxEw"
      }
    },
    {
      "cell_type": "code",
      "source": [
        "z1 = 2 + 3j\n",
        "z2 = -1j"
      ],
      "metadata": {
        "id": "8UjTs6W1XwG_"
      },
      "execution_count": null,
      "outputs": []
    },
    {
      "cell_type": "code",
      "source": [
        "#real,imag,iscomplex,conjugate()\n",
        "z2.conjugate()"
      ],
      "metadata": {
        "colab": {
          "base_uri": "https://localhost:8080/"
        },
        "id": "3kTl4p51ieTb",
        "outputId": "bddb8821-76bf-4d0e-e152-05fcb2ec1973"
      },
      "execution_count": null,
      "outputs": [
        {
          "output_type": "execute_result",
          "data": {
            "text/plain": [
              "(-0+1j)"
            ]
          },
          "metadata": {},
          "execution_count": 6
        }
      ]
    },
    {
      "cell_type": "code",
      "source": [
        "#sum_result\n",
        "a=12\n",
        "b=25\n",
        "c=a+b\n",
        "c"
      ],
      "metadata": {
        "colab": {
          "base_uri": "https://localhost:8080/"
        },
        "id": "G5a3LzfiXwP_",
        "outputId": "8a52e2e1-87ff-417c-901f-8b4895400075"
      },
      "execution_count": null,
      "outputs": [
        {
          "output_type": "execute_result",
          "data": {
            "text/plain": [
              "37"
            ]
          },
          "metadata": {},
          "execution_count": 19
        }
      ]
    },
    {
      "cell_type": "code",
      "source": [
        "#difference_result\n",
        "12-15"
      ],
      "metadata": {
        "colab": {
          "base_uri": "https://localhost:8080/"
        },
        "id": "Kga9QFsrXwSP",
        "outputId": "d2b4067d-4f4c-4698-d9a3-c5ab9c77d9fb"
      },
      "execution_count": null,
      "outputs": [
        {
          "output_type": "execute_result",
          "data": {
            "text/plain": [
              "-3"
            ]
          },
          "metadata": {},
          "execution_count": 21
        }
      ]
    },
    {
      "cell_type": "code",
      "source": [
        "#product_result\n",
        "a*b"
      ],
      "metadata": {
        "colab": {
          "base_uri": "https://localhost:8080/"
        },
        "id": "vmaeDuDVXwUv",
        "outputId": "0bf438b4-ed65-43db-d9d1-e0e60b835969"
      },
      "execution_count": null,
      "outputs": [
        {
          "output_type": "execute_result",
          "data": {
            "text/plain": [
              "300"
            ]
          },
          "metadata": {},
          "execution_count": 22
        }
      ]
    },
    {
      "cell_type": "code",
      "source": [
        "#quotient_result\n",
        "b//a"
      ],
      "metadata": {
        "colab": {
          "base_uri": "https://localhost:8080/"
        },
        "id": "dZsmLH5eXwXC",
        "outputId": "affd3877-b98c-43f8-b3fb-c4b98a40ab57"
      },
      "execution_count": null,
      "outputs": [
        {
          "output_type": "execute_result",
          "data": {
            "text/plain": [
              "2"
            ]
          },
          "metadata": {},
          "execution_count": 24
        }
      ]
    },
    {
      "cell_type": "code",
      "source": [
        "#exponent_result\n",
        "2**3"
      ],
      "metadata": {
        "colab": {
          "base_uri": "https://localhost:8080/"
        },
        "id": "eLorDjQfXwZZ",
        "outputId": "54ba7e7d-a742-4c63-c9ee-6052d4dbd9f2"
      },
      "execution_count": null,
      "outputs": [
        {
          "output_type": "execute_result",
          "data": {
            "text/plain": [
              "8"
            ]
          },
          "metadata": {},
          "execution_count": 25
        }
      ]
    },
    {
      "cell_type": "code",
      "source": [
        "#remainder_result(%)\n",
        "b%a"
      ],
      "metadata": {
        "colab": {
          "base_uri": "https://localhost:8080/"
        },
        "id": "tCKCV4pXYT_f",
        "outputId": "6a6047ef-d937-4990-f307-e33aff6b8774"
      },
      "execution_count": null,
      "outputs": [
        {
          "output_type": "execute_result",
          "data": {
            "text/plain": [
              "1"
            ]
          },
          "metadata": {},
          "execution_count": 26
        }
      ]
    },
    {
      "cell_type": "markdown",
      "source": [
        "For Practice:\n",
        "\n",
        "1.\tWhat is the result of 5 + 3?\n",
        "2.\tCalculate the product of 7 and 4.\n",
        "3.\tDivide 15 by 3. What is the quotient?\n",
        "4.\tWhat is the remainder when 17 is divided by 5?\n",
        "5.\tFind the value of 2² (2 raised to the power of 2).\n",
        "6.\tCalculate the sum of the first three positive integers.\n",
        "7.\tIf you have 10 candies and you give away 3 candies, how many candies do you have left?\n",
        "8.\tAdd 5.5 and 3.2 What is the result?\n",
        "9.\tHow many sides does a triangle have?\n",
        "10.\tSubtract 12 from 20. What is the difference?\n"
      ],
      "metadata": {
        "id": "EkOSHc5wdT80"
      }
    },
    {
      "cell_type": "code",
      "source": [],
      "metadata": {
        "id": "tk0dKJ-RbYlS"
      },
      "execution_count": null,
      "outputs": []
    }
  ]
}